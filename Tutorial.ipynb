{
 "cells": [
  {
   "cell_type": "markdown",
   "id": "c7d8beda-dad7-42d1-bcee-dc8be59b60cf",
   "metadata": {
    "tags": []
   },
   "source": [
    "# Project Pythia: GeoCAT-Comp\n",
    "Welcome. \n",
    "\n",
    "## Who are and what is GeoCAT\n",
    "GeoCAT is the Geoscience Community Analysis Toolkit. Note, it does not analyze the community, rather it is a community built set of analysis tools. \n",
    "\n",
    "Think of GeoCAT as a machine shop instead of a production line, lots of tools to modify or examine the data, but no predetermined outcome, you choose how to use which tools in which order. And hey, if you need another tool that isn't there, let us know and/or help us build it.\n",
    "\n",
    "This Project Pythia presentation won't be able to cover every tool in GeoCAT, so my goal is to show some things I think are interesting with the hope that you become a part of the contributing community.\n",
    "\n",
    "## Part one: Data Analysis tools\n",
    "The next two sections will showcase a recently released signal processing toolset. \n",
    "\n",
    "Meteorological data are often noisy with overlapping signals of various strengths. And since I find fourier analysis handy for fingerprinting data components, I wrote a superset of functionality from NCL into python for abstracting away the process of decomposition, fintering and recomposing the data. \n",
    "\n",
    "In the next few code blocks, we'll show how to extract specific signals from meteorological data.\n",
    "\n",
    "## Focus\n",
    "We don't have time in a single hour to even give an overview of all of our tools in GeoCAT, and so I'll be presenting a couple of case studies in greater depth. We are likely to have additional tutorials on geoCAT tools. Please send us suggestions for tools you would like to see.\n",
    "\n",
    "Today we will be covering a fourier filtering tool, which we recently added to GeoCAT's toolset.\n",
    "[![readthedocs](https://img.shields.io/readthedocs/geocat-comp/latest.svg)](https://geocat-comp.readthedocs.io/en/latest/user_api/generated/geocat.comp.fourier_filters.fourier_filter.html#geocat.comp.fourier_filters.fourier_filter)\n",
    "\n",
    "If we have time at the end, we will also cover a linear regridding tool, one of the first tools we developed for GeoCAT."
   ]
  },
  {
   "cell_type": "markdown",
   "id": "e1e438a7-588d-47d6-8e77-ba9628abe784",
   "metadata": {},
   "source": [
    "## Using a fourier filter on tidal data\n",
    "This is from geocat-examples, it is a demonstration of a case in which a narrow high amplitude signal can be be removed from a dataset to see contributions from lower aplitude data. This tidal data is from Point Reyes California during the month of January 2020."
   ]
  },
  {
   "cell_type": "code",
   "execution_count": null,
   "id": "845cb4c0-86a4-4b75-bc6d-61bdbc408c34",
   "metadata": {},
   "outputs": [],
   "source": [
    "import numpy as np\n",
    "import pandas as pd\n",
    "import matplotlib.pyplot as plt\n",
    "import xarray as xr\n",
    "\n",
    "import geocat.datafiles as gdf\n",
    "from geocat.comp import fourier_filter"
   ]
  },
  {
   "cell_type": "code",
   "execution_count": null,
   "id": "159c455c-237e-4091-8ea3-e387b0f9e7c9",
   "metadata": {},
   "outputs": [],
   "source": [
    "# Open a netCDF data file using xarray default engine and load the data into xarrays\n",
    "dataset = xr.DataArray(pd.read_csv(\n",
    "    gdf.get(\"ascii_files/CO-OPS_9415020_wl.csv\")))\n",
    "xr_data = dataset.loc[:, 'Verified (ft)']"
   ]
  },
  {
   "cell_type": "code",
   "execution_count": null,
   "id": "66c8e1fa-94d2-4278-8f9c-253803b85b7f",
   "metadata": {},
   "outputs": [],
   "source": [
    "# Set points per hour\n",
    "data_freq = 10\n",
    "\n",
    "# Set tide cycle and frequency resolution\n",
    "tide_freq1 = 1 / (1 * 12.4206) # lunar semi-diurnal\n",
    "tide_freq2 = 1 / (2 * 12.4206) # lunar diurnal\n",
    "res = data_freq / (len(xr_data)) \n",
    "print('res*5 = ' +str(res*5))\n",
    "\n",
    "# Define cutoff_frequency_low and cutoff_frequency_high based on tide frequency\n",
    "# each cutoff total width is 0.01 cycles/hour to cover the solar and eliptic semi-diurnal and diurnal components as well.\n",
    "cflow1 = tide_freq1 - 0.005\n",
    "cfhigh1 = tide_freq1 + 0.005\n",
    "cflow2 = tide_freq2 - 0.005\n",
    "cfhigh2 = tide_freq2 + 0.005\n",
    "\n",
    "# Generate figure with 1 subplot and set its size (width, height) in inches\n",
    "fig, ax = plt.subplots(1, 1, dpi=100, figsize=(8, 4), constrained_layout=True)\n",
    "\n",
    "# Load signal data and plot it\n",
    "no_tide = xr_data\n",
    "ax.plot(no_tide[2000:3000])\n",
    "\n",
    "# Plot filtered signal data using fourier_filter for the first set of cutoffs\n",
    "no_tide = fourier_filter(no_tide,\n",
    "                         data_freq,\n",
    "                         cutoff_frequency_low=cflow1,\n",
    "                         cutoff_frequency_high=cfhigh1,\n",
    "                         band_block=True)\n",
    "ax.plot(no_tide[2000:3000])\n",
    "\n",
    "# Plot filtered signal data using fourier_filter for the second set of cutoffs\n",
    "no_tide = fourier_filter(no_tide,\n",
    "                         data_freq,\n",
    "                         cutoff_frequency_low=cflow2,\n",
    "                         cutoff_frequency_high=cfhigh2,\n",
    "                         band_block=True)\n",
    "ax.plot(no_tide[2000:3000])\n",
    "\n",
    "# Show figure\n",
    "plt.show()"
   ]
  },
  {
   "cell_type": "code",
   "execution_count": null,
   "id": "3f577a1f-31d0-4ca2-9916-d86d409d9383",
   "metadata": {},
   "outputs": [],
   "source": [
    "# Generate figure with 2 by 1 subplots and set its size (width, height) in inches\n",
    "fig, axs = plt.subplots(2, 1, dpi=100, figsize=(8, 4), constrained_layout=True)\n",
    "\n",
    "# Plot the real set of data utilizing NumPy's Fourier Transform function using both\n",
    "# the original data and the fourier_filter applied to the second set of cutoffs\n",
    "axs[0].set_title('real')\n",
    "axs[0].plot(np.real(np.fft.fft(xr_data)[1:100]))\n",
    "axs[0].plot(np.real(np.fft.fft(no_tide)[1:100]))\n",
    "\n",
    "# Plot the imaginary set of data utilizing NumPy's Fourier Transform function using both\n",
    "# the original data and the fourier_filter applied to the second set of cutoffs\n",
    "axs[1].set_title('imag')\n",
    "axs[1].plot(np.imag(np.fft.fft(xr_data)[1:100]))\n",
    "axs[1].plot(np.imag(np.fft.fft(no_tide)[1:100]))\n",
    "\n",
    "# Show figure\n",
    "plt.show()"
   ]
  },
  {
   "cell_type": "code",
   "execution_count": null,
   "id": "5f996a3a-9236-4211-afba-ef208287126c",
   "metadata": {},
   "outputs": [],
   "source": [
    "# Generate figure with 2 by 1 subplots and set its size (width, height) in inches\n",
    "fig, axs = plt.subplots(1, 1, dpi=100, figsize=(8, 4), constrained_layout=True)\n",
    "\n",
    "# Define start and end of data indices\n",
    "start = 0\n",
    "end = -1\n",
    "\n",
    "# Plot the real and imaginary sets of data from the original and filtered data\n",
    "axs.set_title('real')\n",
    "axs.plot(np.real(xr_data)[start:end])\n",
    "axs.plot(np.real(no_tide)[start:end])\n",
    "\n",
    "# Show plot\n",
    "plt.show()\n",
    "\n",
    "# note the limited frequency removal at the edges of the graph, \n",
    "# this is due to 'ringing' from effectively using a boxcar window on the data\n",
    "# there are ways to avoid that, but it's outside the scope of this, \n",
    "# and generally this is not needed, as it only has significant effect at the edges of the processed data. \n",
    "# "
   ]
  },
  {
   "cell_type": "markdown",
   "id": "1d0232f9-5003-4fbf-923c-11e6849c1edb",
   "metadata": {},
   "source": [
    "## Extracting seasonally adjusted climate data from raw oberservations\n",
    "Sea surface temperature in San Francisco bay, from a netcdf file. \n",
    "\n",
    "For this example let's remove the solar heating yearly cycle from a year of raw hourly data. We can speculate on other bay surface tempurature affecting cycles, but until we've removed high amplitude seasonal components, we won't be able to clearly show tidal or lunar month contributions to flow into and out of the bay, which I personally expect to have some visible effect on the surface temperature."
   ]
  },
  {
   "cell_type": "code",
   "execution_count": null,
   "id": "e36332c8-6be0-438f-b817-5f953530203d",
   "metadata": {},
   "outputs": [],
   "source": [
    "dataset2 = xr.load_dataarray(gdf.get(\"netcdf_files/sfbay_2020_met.nc\"))\n",
    "dataset2"
   ]
  },
  {
   "cell_type": "code",
   "execution_count": null,
   "id": "bda14a16-f20a-41cd-9e54-f4d46e806d59",
   "metadata": {},
   "outputs": [],
   "source": [
    "data2 = dataset2.loc[:,'Water Temp (°C)']\n",
    "time2 = dataset2.loc[:,'Time (GMT)']\n"
   ]
  },
  {
   "cell_type": "code",
   "execution_count": null,
   "id": "3edaf0bf-a553-40f6-88eb-4b228cddb0b3",
   "metadata": {},
   "outputs": [],
   "source": [
    "# this dataset used '-' to mark missing values so replace them with np.nan\n",
    "data2[data2=='-']=np.nan\n",
    "data2 = data2.astype(float)\n",
    "# this is real data, check for nans\n",
    "data2[np.isnan(data2)].dim_0"
   ]
  },
  {
   "cell_type": "code",
   "execution_count": null,
   "id": "cdd40d24-481d-4a28-a683-c7b40dea99c3",
   "metadata": {},
   "outputs": [],
   "source": [
    "# we've got nans, our nans aren't consecutive, we can interpolate them.\n",
    "index = -1\n",
    "for d2 in data2:\n",
    "    index+=1\n",
    "    if np.isnan(d2):\n",
    "        data2[index]=(data2[index-1]+data2[index+1])/2 #interp nans\n",
    "        print(index)"
   ]
  },
  {
   "cell_type": "code",
   "execution_count": null,
   "id": "7060eff3-b3fc-4409-b655-fce6103b9248",
   "metadata": {},
   "outputs": [],
   "source": [
    "data2.plot()"
   ]
  },
  {
   "cell_type": "markdown",
   "id": "e58ef7cd-6f76-474a-92ce-ff54114ae62d",
   "metadata": {},
   "source": [
    "## What is the underlying information upon which fourier filers act?\n",
    "Fourier decomposition is transform from time series data to frequency series data. \n",
    "This is done either in the general case with a Discrete Fourier Transform, which has abritrary frequency resolution, but is computationally expensive at $O(n^2)$, or via the Fast Fourier Transform which works on data with a uniform sample rate, and has a frequency resolution of $(sample\\ rate)/(number\\ of\\ samples)$, but has the advatage of being comparatively computationally inexpensive at $O(n \\cdot log(n))$.\n",
    "\n",
    "Once the data are represented in a frequency series, we can set the amplitude of frequencies we want to remove from our data to 0, this is in effect a boxcar filter. (which if we get deep into the math, could create high temporal frequency ringing if the discontinutity next to our removed frequencies is large) We will avoid this by checking our FFT before removing frequencies.\n"
   ]
  },
  {
   "cell_type": "code",
   "execution_count": null,
   "id": "5a99ce6d-e783-45f2-afc9-ec27e074ae76",
   "metadata": {},
   "outputs": [],
   "source": [
    "# Generate figure with 2 by 1 subplots and set its size (width, height) in inches\n",
    "fig, axs = plt.subplots(2, 1, dpi=100, figsize=(8, 4), constrained_layout=True)\n",
    "\n",
    "# Plot the real set of data utilizing NumPy's Fourier Transform function using both\n",
    "# the original data and the fourier_filter applied to the second set of cutoffs\n",
    "axs[0].set_title('real')\n",
    "axs[0].plot(range(1,10),np.real(np.fft.fft(data2)[1:10]))\n",
    "\n",
    "# Plot the imaginary set of data utilizing NumPy's Fourier Transform function using both\n",
    "# the original data and the fourier_filter applied to the second set of cutoffs\n",
    "axs[1].set_title('imag')\n",
    "axs[1].plot(range(1,10),np.imag(np.fft.fft(data2)[1:10]))\n",
    "\n",
    "# Show figure\n",
    "plt.show()"
   ]
  },
  {
   "cell_type": "markdown",
   "id": "26978431-b516-4c0e-933b-a0040c168b6a",
   "metadata": {},
   "source": [
    "### Data manipulation"
   ]
  },
  {
   "cell_type": "markdown",
   "id": "8357fc94-ffa0-4984-a189-54087b87fa7f",
   "metadata": {},
   "source": [
    "We want to detrend the data, but we aren't sure what trends are in the dataset, and we don't want to remove something interesting, so we will plot the freqencies we intend to remove against our dataset before modifying our data. "
   ]
  },
  {
   "cell_type": "code",
   "execution_count": null,
   "id": "d5b187f8-b635-4e98-837e-458c1f3a3fda",
   "metadata": {},
   "outputs": [],
   "source": [
    "data_freq2 = 1 #points per hour\n",
    "res2 = data_freq2/(len(data2)) #(fft resolution in cycles per hour)\n",
    "cflow = res2*0 # steady state inclusive\n",
    "cfhigh = res2*4 # up to 3 cycles per year exclusive (n-1)\n",
    "blocked = fourier_filter(data2, \n",
    "                         data_freq2,\n",
    "                         cutoff_frequency_low=cflow,\n",
    "                         cutoff_frequency_high=cfhigh,\n",
    "                         band_pass=True)\n",
    "data2.plot()\n",
    "blocked.plot()"
   ]
  },
  {
   "cell_type": "code",
   "execution_count": null,
   "id": "513a1a82-f1b9-4234-b398-dcbfea9e879a",
   "metadata": {},
   "outputs": [],
   "source": [
    "data_freq2 = 1 #points per hour\n",
    "res2 = data_freq2/(len(data2)) #(fft resolution in cycles per hour)\n",
    "cflow = res2*0 # lower bound zero cycles per year (inclusive)\n",
    "cfhigh = res2*4 # Upper bound one cycles per year (exclusive)\n",
    "detrended = fourier_filter(data2,\n",
    "                           data_freq2,\n",
    "                           cutoff_frequency_low=cflow,\n",
    "                           cutoff_frequency_high=cfhigh,\n",
    "                           band_block=True)\n",
    "cflow = res2*4 # steady state inclusive\n",
    "cfhigh = res2*13 # up to 12 cycles per year (n-1)\n",
    "blocked = fourier_filter(data2, \n",
    "                         data_freq2,\n",
    "                         cutoff_frequency_low=cflow,\n",
    "                         cutoff_frequency_high=cfhigh,\n",
    "                         band_pass=True)\n",
    "detrended.plot()\n",
    "blocked.plot()"
   ]
  },
  {
   "cell_type": "markdown",
   "id": "dec19dc0-aa0c-40a1-a941-092b45136503",
   "metadata": {},
   "source": [
    "## Regridding tools, data format tools\n",
    "If I'm reading this out loud, it's because we had time to cover a regridding tool! \n",
    "\n",
    "This is the linint2 or Linear Interpolation 2-Dimensional, yes I agree the name could be better, this was the first function I brought over from NCL, and I kept the name, we may well rename it, and have a transparent wrapper with the old name once we've brought it into pure python, rather than compiling the underlying Fortran into python using Numpy's F2Py compiler. (also the fortran function runs at $O(n \\cdot log(n))$ and I know it should be able to run in $O(n)$ if we use a modern implementation of linear interpolation.)\n",
    "\n"
   ]
  },
  {
   "cell_type": "code",
   "execution_count": null,
   "id": "47c4d748-dbf1-42b0-a254-d28185447845",
   "metadata": {},
   "outputs": [],
   "source": [
    "import cartopy.crs as ccrs\n",
    "import matplotlib.pyplot as plt\n",
    "import numpy as np\n",
    "import xarray as xr\n",
    "from cartopy.mpl.geoaxes import GeoAxes\n",
    "from matplotlib import cm\n",
    "from mpl_toolkits.axes_grid1 import AxesGrid\n",
    "\n",
    "import geocat.datafiles as gdf\n",
    "import geocat.viz.util as gvutil\n",
    "from geocat.comp import linint2\n"
   ]
  },
  {
   "cell_type": "code",
   "execution_count": null,
   "id": "035043a2-f7bc-4dfb-9869-45cf9c6fbe34",
   "metadata": {},
   "outputs": [],
   "source": [
    "# Open a netCDF data file using xarray default engine and load the data\n",
    "# into xarray.DataArrays\n",
    "ds = xr.open_dataset(gdf.get('netcdf_files/sst.nc'))\n",
    "sst = ds.TEMP[0, 0, :, :].chunk()\n",
    "lat = ds.LAT[:]\n",
    "lon = ds.LON[:]\n",
    "ds"
   ]
  },
  {
   "cell_type": "code",
   "execution_count": null,
   "id": "80652179-46fb-483b-9142-db487d96707e",
   "metadata": {},
   "outputs": [],
   "source": [
    "# Provide (output) interpolation grid\n",
    "newlat = np.linspace(min(lat), max(lat), 60)\n",
    "newlon = np.linspace(min(lon), max(lon), 60)\n",
    "\n",
    "# Invoke `linint2` from `geocat.comp`\n",
    "newsst = linint2(sst, newlon, newlat, icycx=False)"
   ]
  },
  {
   "cell_type": "code",
   "execution_count": null,
   "id": "fae2399b-81b4-4691-826b-e7bad12b367f",
   "metadata": {},
   "outputs": [],
   "source": [
    "# Generate figure and set its size (width, height) in inches\n",
    "fig= plt.figure(figsize=(10, 20))\n",
    "\n",
    "# Generate Axes grid using a Cartopy projection\n",
    "projection = ccrs.PlateCarree()\n",
    "axes_class = (GeoAxes, dict(map_projection=projection))\n",
    "axgr = AxesGrid(fig,\n",
    "                111,\n",
    "                axes_class=axes_class,\n",
    "                nrows_ncols=(2, 1),\n",
    "                axes_pad=0.7,\n",
    "                cbar_location='right',\n",
    "                cbar_mode='single',\n",
    "                cbar_pad=0.3,\n",
    "                cbar_size='3%',\n",
    "                label_mode='')  # note the empty label_mode\n",
    "\n",
    "# Create a dictionary for common plotting options for both subplots\n",
    "plot_options = dict(transform=projection,\n",
    "                    cmap=cm.jet,\n",
    "                    vmin=-30,\n",
    "                    vmax=30,\n",
    "                    levels=30,\n",
    "                    extend='neither',\n",
    "                    add_colorbar=False,\n",
    "                    add_labels=False)\n",
    "\n",
    "# Plot original grid and linint2 interpolations as two subplots\n",
    "# within the figure\n",
    "for i, ax in enumerate(axgr):\n",
    "\n",
    "    # Plot contours for both the subplots\n",
    "    if (i == 0):\n",
    "        sst.plot.contourf(ax=ax, **plot_options)\n",
    "        ax.set_title('Original Grid', fontsize=14, fontweight='bold', y=1.04)\n",
    "    else:\n",
    "        p = newsst.plot.contourf(ax=ax, **plot_options)\n",
    "        ax.set_title('Regrid (to coarse) - linint2',\n",
    "                     fontsize=14,\n",
    "                     fontweight='bold',\n",
    "                     y=1.03)\n",
    "\n",
    "    # Add coastlines to the subplots\n",
    "    ax.coastlines()\n",
    "\n",
    "    # Use geocat.viz.util convenience function to add minor and major tick\n",
    "    # lines\n",
    "    gvutil.add_major_minor_ticks(ax)\n",
    "\n",
    "    # Use geocat.viz.util convenience function to set axes limits & tick\n",
    "    # values without calling several matplotlib functions\n",
    "    gvutil.set_axes_limits_and_ticks(ax,\n",
    "                                     xticks=np.linspace(-180, 180, 10),\n",
    "                                     yticks=np.linspace(-90, 90, 5))\n",
    "\n",
    "    # Use geocat.viz.util convenience function to make plots look like NCL\n",
    "    # plots by using latitude, longitude tick labels\n",
    "    gvutil.add_lat_lon_ticklabels(ax, zero_direction_label=False)\n",
    "\n",
    "# Add color bar and label details (title, size, etc.)\n",
    "cax = axgr.cbar_axes[0]\n",
    "cax.colorbar(p)\n",
    "axis = cax.axis[cax.orientation]\n",
    "axis.label.set_text(r'Temperature ($^{\\circ} C$)')\n",
    "axis.label.set_size(16)\n",
    "axis.major_ticklabels.set_size(10)\n",
    "\n",
    "plt.show()"
   ]
  },
  {
   "cell_type": "code",
   "execution_count": null,
   "id": "94e13c82-bf5d-4a27-b761-64a850cd4cbd",
   "metadata": {},
   "outputs": [],
   "source": []
  },
  {
   "cell_type": "code",
   "execution_count": null,
   "id": "9fd23352-a0be-4299-9e07-ae9e32beb90f",
   "metadata": {},
   "outputs": [],
   "source": []
  }
 ],
 "metadata": {
  "kernelspec": {
   "display_name": "Python 3 (ipykernel)",
   "language": "python",
   "name": "python3"
  },
  "language_info": {
   "codemirror_mode": {
    "name": "ipython",
    "version": 3
   },
   "file_extension": ".py",
   "mimetype": "text/x-python",
   "name": "python",
   "nbconvert_exporter": "python",
   "pygments_lexer": "ipython3",
   "version": "3.9.7"
  }
 },
 "nbformat": 4,
 "nbformat_minor": 5
}
