{
 "cells": [
  {
   "cell_type": "markdown",
   "id": "c7d8beda-dad7-42d1-bcee-dc8be59b60cf",
   "metadata": {
    "tags": []
   },
   "source": [
    "# Project Pythia: GeoCAT-Comp\n",
    "## Part one: Data Analysis tools\n",
    "In the next few code blocks, we'll show how to extract specific signals from meteorological data."
   ]
  },
  {
   "cell_type": "code",
   "execution_count": null,
   "id": "845cb4c0-86a4-4b75-bc6d-61bdbc408c34",
   "metadata": {},
   "outputs": [],
   "source": [
    "import numpy as np\n",
    "import pandas as pd\n",
    "import matplotlib.pyplot as plt\n",
    "import xarray as xr\n",
    "\n",
    "import geocat.datafiles as gdf\n",
    "from geocat.comp import fourier_filter"
   ]
  },
  {
   "cell_type": "code",
   "execution_count": null,
   "id": "159c455c-237e-4091-8ea3-e387b0f9e7c9",
   "metadata": {},
   "outputs": [],
   "source": [
    "# Open a netCDF data file using xarray default engine and load the data into xarrays\n",
    "dataset = xr.DataArray(pd.read_csv(\n",
    "    gdf.get(\"ascii_files/CO-OPS_9415020_wl.csv\")))\n",
    "xr_data = dataset.loc[:, 'Verified (ft)']"
   ]
  },
  {
   "cell_type": "code",
   "execution_count": null,
   "id": "66c8e1fa-94d2-4278-8f9c-253803b85b7f",
   "metadata": {},
   "outputs": [],
   "source": [
    "# Set points per hour\n",
    "data_freq = 10\n",
    "\n",
    "# Set tide cycle and frequency resolution\n",
    "tide_freq1 = 1 / (1 * 12.4206)\n",
    "tide_freq2 = 1 / (2 * 12.4206)\n",
    "res = data_freq / (len(xr_data))\n",
    "\n",
    "# Define cutoff_frequency_low and cutoff_frequency_high based on tide frequency\n",
    "cflow1 = tide_freq1 - res * 5\n",
    "cfhigh1 = tide_freq1 + res * 5\n",
    "cflow2 = tide_freq2 - res * 5\n",
    "cfhigh2 = tide_freq2 + res * 5\n",
    "\n",
    "# Generate figure with 1 subplot and set its size (width, height) in inches\n",
    "fig, ax = plt.subplots(1, 1, dpi=100, figsize=(8, 4), constrained_layout=True)\n",
    "\n",
    "# Load signal data and plot it\n",
    "no_tide = xr_data\n",
    "ax.plot(no_tide[2000:3000])\n",
    "\n",
    "# Plot filtered signal data using fourier_filter for the first set of cutoffs\n",
    "no_tide = fourier_filter(no_tide,\n",
    "                         data_freq,\n",
    "                         cutoff_frequency_low=cflow1,\n",
    "                         cutoff_frequency_high=cfhigh1,\n",
    "                         band_block=True)\n",
    "ax.plot(no_tide[2000:3000])\n",
    "\n",
    "# Plot filtered signal data using fourier_filter for the second set of cutoffs\n",
    "no_tide = fourier_filter(no_tide,\n",
    "                         data_freq,\n",
    "                         cutoff_frequency_low=cflow2,\n",
    "                         cutoff_frequency_high=cfhigh2,\n",
    "                         band_block=True)\n",
    "ax.plot(no_tide[2000:3000])\n",
    "\n",
    "# Show figure\n",
    "fig.show()"
   ]
  },
  {
   "cell_type": "code",
   "execution_count": null,
   "id": "3f577a1f-31d0-4ca2-9916-d86d409d9383",
   "metadata": {},
   "outputs": [],
   "source": [
    "# Generate figure with 2 by 1 subplots and set its size (width, height) in inches\n",
    "fig, axs = plt.subplots(2, 1, dpi=100, figsize=(8, 4), constrained_layout=True)\n",
    "\n",
    "# Plot the real set of data utilizing NumPy's Fourier Transform function using both\n",
    "# the original data and the fourier_filter applied to the second set of cutoffs\n",
    "axs[0].set_title('real')\n",
    "axs[0].plot(np.real(np.fft.fft(xr_data)[1:100]))\n",
    "axs[0].plot(np.real(np.fft.fft(no_tide)[1:100]))\n",
    "\n",
    "# Plot the imaginary set of data utilizing NumPy's Fourier Transform function using both\n",
    "# the original data and the fourier_filter applied to the second set of cutoffs\n",
    "axs[1].set_title('imag')\n",
    "axs[1].plot(np.imag(np.fft.fft(xr_data)[1:100]))\n",
    "axs[1].plot(np.imag(np.fft.fft(no_tide)[1:100]))\n",
    "\n",
    "# Show figure\n",
    "fig.show()"
   ]
  },
  {
   "cell_type": "code",
   "execution_count": null,
   "id": "5f996a3a-9236-4211-afba-ef208287126c",
   "metadata": {},
   "outputs": [],
   "source": [
    "# Generate figure with 2 by 1 subplots and set its size (width, height) in inches\n",
    "fig, axs = plt.subplots(1, 1, dpi=100, figsize=(8, 4), constrained_layout=True)\n",
    "\n",
    "# Define start and end of data indices\n",
    "start = 0\n",
    "end = -1\n",
    "\n",
    "# Plot the real and imaginary sets of data from the original and filtered data\n",
    "axs.set_title('real')\n",
    "axs.plot(np.real(xr_data)[start:end])\n",
    "axs.plot(np.real(no_tide)[start:end])\n",
    "\n",
    "# Show plot\n",
    "fig.show()"
   ]
  },
  {
   "cell_type": "markdown",
   "id": "1d0232f9-5003-4fbf-923c-11e6849c1edb",
   "metadata": {},
   "source": [
    "# Part 2\n",
    "Sea surface temperature in San Francisco bay, from a netcdf file."
   ]
  },
  {
   "cell_type": "code",
   "execution_count": null,
   "id": "e36332c8-6be0-438f-b817-5f953530203d",
   "metadata": {},
   "outputs": [],
   "source": [
    "dataset2 = xr.load_dataarray(gdf.get(\"netcdf_files/sfbay_2020_met.nc\"))\n",
    "dataset2"
   ]
  },
  {
   "cell_type": "code",
   "execution_count": null,
   "id": "bda14a16-f20a-41cd-9e54-f4d46e806d59",
   "metadata": {},
   "outputs": [],
   "source": [
    "data2 = dataset2.loc[:,'Water Temp (°C)']\n",
    "time2 = dataset2.loc[:,'Time (GMT)']\n"
   ]
  },
  {
   "cell_type": "code",
   "execution_count": null,
   "id": "3edaf0bf-a553-40f6-88eb-4b228cddb0b3",
   "metadata": {},
   "outputs": [],
   "source": [
    "# this dataset used '-' to mark missing values so replace them with np.nan\n",
    "data2[data2=='-']=np.nan\n",
    "data2 = data2.astype(float)\n",
    "# this is real data, check for nans\n",
    "data2[np.isnan(data2)].dim_0"
   ]
  },
  {
   "cell_type": "code",
   "execution_count": null,
   "id": "cdd40d24-481d-4a28-a683-c7b40dea99c3",
   "metadata": {},
   "outputs": [],
   "source": [
    "# we've got nans, so make the rest floats, \n",
    "# and then since our nans aren't consecutive, \n",
    "# we can interpolate them.\n",
    "index = -1\n",
    "for d2 in data2:\n",
    "    index+=1\n",
    "    if np.isnan(d2):\n",
    "        data2[index]=(data2[index-1]+data2[index+1])/2 #interp nans\n",
    "        print(index)"
   ]
  },
  {
   "cell_type": "code",
   "execution_count": null,
   "id": "7060eff3-b3fc-4409-b655-fce6103b9248",
   "metadata": {},
   "outputs": [],
   "source": [
    "data2.plot()"
   ]
  },
  {
   "cell_type": "markdown",
   "id": "e58ef7cd-6f76-474a-92ce-ff54114ae62d",
   "metadata": {},
   "source": [
    "## What is the underlying information upon which fourier filers act?\n",
    "Fourier decomposition is transform from time series data frequency series data. \n",
    "This is done either in the general case with a Discrete Fourier Transform, which is computationally expensive $O(n^2)$ and has abritrary freqeuncy resolution, or via the Fast Fourier Transforms which works on the specific case of data with a uniform sample rate, and has a frequency resolution of $resolution = (rate)/(n)$, but has the advatage of being comparatively computationally inexpensive $O(n*log(n))$.\n"
   ]
  },
  {
   "cell_type": "code",
   "execution_count": null,
   "id": "5a99ce6d-e783-45f2-afc9-ec27e074ae76",
   "metadata": {},
   "outputs": [],
   "source": [
    "# Generate figure with 2 by 1 subplots and set its size (width, height) in inches\n",
    "fig, axs = plt.subplots(2, 1, dpi=100, figsize=(8, 4), constrained_layout=True)\n",
    "\n",
    "# Plot the real set of data utilizing NumPy's Fourier Transform function using both\n",
    "# the original data and the fourier_filter applied to the second set of cutoffs\n",
    "axs[0].set_title('real')\n",
    "axs[0].plot(np.real(np.fft.fft(data2)[1:25]))\n",
    "\n",
    "# Plot the imaginary set of data utilizing NumPy's Fourier Transform function using both\n",
    "# the original data and the fourier_filter applied to the second set of cutoffs\n",
    "axs[1].set_title('imag')\n",
    "axs[1].plot(np.imag(np.fft.fft(data2)[1:25]))\n",
    "\n",
    "# Show figure\n",
    "fig.show()"
   ]
  },
  {
   "cell_type": "markdown",
   "id": "26978431-b516-4c0e-933b-a0040c168b6a",
   "metadata": {},
   "source": [
    "## Data manipulation"
   ]
  },
  {
   "cell_type": "markdown",
   "id": "8357fc94-ffa0-4984-a189-54087b87fa7f",
   "metadata": {},
   "source": [
    "We want to detrend the data, but we aren't sure what trends are in the dataset, and we don't want to remove something interesting, so we will plot the freqencies we intend to remove against our dataset before modifying our data. "
   ]
  },
  {
   "cell_type": "code",
   "execution_count": null,
   "id": "d5b187f8-b635-4e98-837e-458c1f3a3fda",
   "metadata": {},
   "outputs": [],
   "source": [
    "data_freq2 = 1 #points per hour\n",
    "res2 = data_freq2/(len(data2)) #(fft resolution in cycles per hour)\n",
    "cflow = res2*0 # steady state inclusive\n",
    "cfhigh = res2*4 # up to 3 cycles per year (n-1)\n",
    "blocked = fourier_filter(data2, \n",
    "                         data_freq2,\n",
    "                         cutoff_frequency_low=cflow,\n",
    "                         cutoff_frequency_high=cfhigh,\n",
    "                         band_pass=True)\n",
    "data2.plot()\n",
    "blocked.plot()"
   ]
  },
  {
   "cell_type": "code",
   "execution_count": null,
   "id": "513a1a82-f1b9-4234-b398-dcbfea9e879a",
   "metadata": {},
   "outputs": [],
   "source": [
    "data_freq2 = 1 #points per hour\n",
    "res2 = data_freq2/(len(data2)) #(fft resolution in cycles per hour)\n",
    "cflow = res2*0 # lower bound zero cycles per year (inclusive)\n",
    "cfhigh = res2*4 # Upper bound one cycles per year (exclusive)\n",
    "detrended = fourier_filter(data2,\n",
    "                           data_freq2,\n",
    "                           cutoff_frequency_low=cflow,\n",
    "                           cutoff_frequency_high=cfhigh,\n",
    "                           band_block=True)\n",
    "cflow = res2*4 # steady state inclusive\n",
    "cfhigh = res2*13 # up to 12 cycles per year (n-1)\n",
    "blocked = fourier_filter(data2, \n",
    "                         data_freq2,\n",
    "                         cutoff_frequency_low=cflow,\n",
    "                         cutoff_frequency_high=cfhigh,\n",
    "                         band_pass=True)\n",
    "detrended.plot()\n",
    "blocked.plot()"
   ]
  },
  {
   "cell_type": "code",
   "execution_count": null,
   "id": "df9cf099-386a-4a63-97b7-6940bc61b522",
   "metadata": {},
   "outputs": [],
   "source": [
    "\n",
    "\n"
   ]
  },
  {
   "cell_type": "code",
   "execution_count": null,
   "id": "47c4d748-dbf1-42b0-a254-d28185447845",
   "metadata": {},
   "outputs": [],
   "source": []
  },
  {
   "cell_type": "code",
   "execution_count": null,
   "id": "035043a2-f7bc-4dfb-9869-45cf9c6fbe34",
   "metadata": {},
   "outputs": [],
   "source": []
  },
  {
   "cell_type": "code",
   "execution_count": null,
   "id": "80652179-46fb-483b-9142-db487d96707e",
   "metadata": {},
   "outputs": [],
   "source": []
  }
 ],
 "metadata": {
  "kernelspec": {
   "display_name": "Python 3 (ipykernel)",
   "language": "python",
   "name": "python3"
  },
  "language_info": {
   "codemirror_mode": {
    "name": "ipython",
    "version": 3
   },
   "file_extension": ".py",
   "mimetype": "text/x-python",
   "name": "python",
   "nbconvert_exporter": "python",
   "pygments_lexer": "ipython3",
   "version": "3.9.6"
  }
 },
 "nbformat": 4,
 "nbformat_minor": 5
}
